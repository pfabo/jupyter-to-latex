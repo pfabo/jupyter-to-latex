{
 "cells": [
  {
   "cell_type": "markdown",
   "metadata": {},
   "source": [
    "# Export Jupyter Notebooku do LaTex/u\n",
    "\n",
    "## Úvod\n",
    "\n",
    "Štandardný export Jupyter-Notebooku do formátu prostredia LaTex využíva knižnicu *pandoc*,ktorá konvertuje len základné konštrukcie formátovania textu.  Rozšírenie Jupyteru o plugin LaTeX *latex_envs* umožnilo doplnenie notebookov o ďaľšie konštrukty (číslovanie rovníc, lokálne odkazy a pod.), zároveň ale konvertovaný výstup v LaTeX-e vyžaduje ručné editovanie textu, naviac nie je prispôsobené na konverziu dokumentov pozostávajúcich z viacerých notebookov tvoriacich kapitoly budúceho dokumentu. Z tohoto dôvodu vznikol skript *nb2tex*, ktorý čiastočne eliminuje vyššie uvedené nedostatky.\n",
    "\n",
    "## Rýchlonávod\n",
    "\n",
    "* Predpokladajme, že máte vytvorené jupyter notebooky (napr. *notebook_1.ipynb* a *notebook_2.ipynb* ) v nejakom adresári napr. **Notebooky**\n",
    "\n",
    "* Rozbalte archív **jp2tex.zip** do nejakého adresára, napr. **Konvertor**\n",
    "\n",
    "* Vytvorte si adresár, v ktorom sa bude vytvárať dokument, napr. **Export**\n",
    "\n",
    "* Najskôr vygenerujeme konfiguračné súbory pre budúcu konverziu, v adresári **Export** spustite"
   ]
  },
  {
   "cell_type": "markdown",
   "metadata": {},
   "source": [
    "        python3 $HOME/Konvertor/jp2tex.py -c "
   ]
  },
  {
   "cell_type": "markdown",
   "metadata": {},
   "source": [
    "* V adresári sa vytvorilo niekoľko súborov s príponou **.py** a **.tex**, pomocou ktorých viete definovať titulnú stránku dokumentu, formátovanie zdrojových textov a pod. Súbory \n",
    "**chapters_path.tex** a **graphics_path.tex** sa prepisujú pri každej konverzii, ostatné konfiguračné súbry sa nemenia. V súbore config.py zadefinujeme štruktúru budúceho dokumentu, t.j. ktoré notebooky chceme exportovať a v akom poradí budú usporiadané"
   ]
  },
  {
   "cell_type": "markdown",
   "metadata": {},
   "source": [
    "        source = 'Notebooky'    \n",
    "\n",
    "        chapters = [ \n",
    "                ['notebook_1', True,  True],\n",
    "                ['notebook_2', True,  True]\n",
    "              ]\n",
    "              \n",
    "\n",
    "* Vlastnú konverziu spustíme v adresári **$HOME/Export** skriptom"
   ]
  },
  {
   "cell_type": "markdown",
   "metadata": {},
   "source": [
    "        python3 $HOME/Konvertor/jp2tex.py"
   ]
  },
  {
   "cell_type": "markdown",
   "metadata": {},
   "source": [
    "* Ak notebooky neobsahujú chyby a neznáme konštrukcie, výsledkom skriptu je vygenerovaný koreňový súbor **main.tex** a pomocné inkludované súbory, ktoré obsahujú cesty k obrázkom a jednotlivým kapitolám.  "
   ]
  },
  {
   "cell_type": "markdown",
   "metadata": {},
   "source": [
    "## Konverzia pomocou skriptu nb2tex\n",
    "\n",
    "Pretože Jupyter-Notebook sa priebežne vyvíja a aj autori rozšírení vedomí si nedostatkov priebežne svoje diela vylepšujú a dopĺňajú, nie je možné pokladť nižšie popisovaný skript za finálny a konečný produkt. Originálny export je riadený template, ktorého popis je na stránke [Customizing nbconvert](https://nbconvert.readthedocs.io/en/latest/customizing.html)\n",
    "\n",
    "Dokument obsahuje\n",
    "\n",
    "* Popis funkcie konverzného skriptu\n",
    "* Popis usporiadania adresárovej štruktúry notebookov\n",
    "* Návod na použitie a konfiguráciu konverzného skriptu\n",
    "* Popis a usporiadanie prostredia LaTex-u pre vytváranie finálnych dokumentov\n",
    "* Demonštračná kapitola s použitím rozšírení LaTeX\\_envs\n",
    "\n",
    "Hlavným zámerom na vytvorenie skriptu bolo vygenerovanie takého porstredia, v ktorom sa primárny dokument edituje **len** v prostredí Jupyter-Notebooku, bez potreby ďaľších alebo len minimálnych úprav v prostredí LaTeX-u.Pôvodný notebook môže obsahovať aj interaktívne časti, ktoré nie je môžné principiálne konvertovať do statického dokumentu (animácie, videá a pod.) "
   ]
  },
  {
   "cell_type": "markdown",
   "metadata": {},
   "source": [
    "Skript *nb2tex* (aktuálna verzia 1.3/190420) napísaný v Pythone ver.3.x konvertuje Jupyter-Notebook v nasledujúcich krokoch:\n",
    "\n",
    "* Skopíruje jeden alebo viacero notebookov do samostatnej zvolenej adresárovej štruktúry. Do pôvodných zdrojových textov skript nezasahuje. Voľba súborov je definovaná v textovom konfiguračnom súbore.\n",
    "\n",
    "* Pre skopírované notebooky spustí v neinteraktívnom móde obnovenie obsahu notebooku, skriptov, generovanie obrázkov skriptami (*matplotlib*) a iné. Po obnovení sú v lokálnej adresárovej štruktúre vygenerované obrázky, ktoré sú štandardnou súčasťou notebooku.    \n",
    "\n",
    "* V texte notebooku **\\*.ipynb** sú pomocou regulérnych výrazov upravené a nahradené niektoré problematické konštrukcie, ako sú obrázky, vyradenie častí notebooku, ktoré nie je možné konvertovať do LaTeX-u (videá, animácie ..) a úprava vertikálneho formátovania.\n",
    "\n",
    "* Konverzia textu notebooku na LaTeX je pomocou štandardných knverzných nástrojov *nbconvert* a *pandoc*\n",
    "\n",
    "* Z konvertovaného textu v LaTeX-e sú odstránené časti, ktoré by bránili poskladaniu viacerých dokumentov do jedného celku. Úvodná stránka a členenie dokumentu je definované v titulnom súbore LaTeX-u.\n",
    "\n",
    "### Konverzie obrázkov\n",
    "\n",
    "Štandardný notebook umožňuje vloženie obrázkov bez popisu (pomocou HTML tagu <img src ...>), pri ktorých je možné nastaviť šírku v px, táto informácia nie je ale konvertovaná do LaTeX-u. Na druhej strane rozšírenie LaTeX-envs umožňuje vkladanie obrázkov s popisom a veľkosťou pomocou prostredia LaTex-u *figure{}*, informáciu o veľkosti obrázku, ale interpereter notebooku toto ignoruje. \n",
    "\n",
    "Pre riešenie tohoto problému skript nahradí pred konverziou HTML tag konštrukciou LaTeX-u, z tohoto dôvodu je tag rozšírený o neštandardný (ignorovaný) textový parameter *scale* a HTML tag s definíciou obrázka má potom tvar (dva apostrofy v príklade reprezentujú uvodzovky)  \n",
    "\n",
    "    <img src=''./img/map01.png'' width=500px alt=\"Skalárne pole\" scale=\"0.4\"/>\n",
    "    \n",
    "je konvertovaný na LaTex-ový popis obrázku nahradzujúci pôvodné vloženie obrázku\n",
    "\n",
    "    \\begin{figure}[h!]\n",
    "    \n",
    "    \\centerline{\\includegraphics[scale=0.4]{./img/map01.png}}\n",
    "    \n",
    "    \\caption{Skalárne pole}\n",
    "\n",
    "### Potlačenie nekonvertovateľných častí notebooku\n",
    "\n",
    "Pre zabránenie chybám pri konverzie vložených animácií, videí a pod. umožňuje skript vyradiť z konverzie riadok, pred ktorým je vložený komentár s príkazom REMOVE\n",
    "\n",
    "    <!-- REMOVE --> \n",
    "    Odstrani nasledujuci riadok po prikaze REMOVE\n",
    "    \n",
    "### Riadenie vertikálneho toku textu\n",
    "\n",
    "Pomocou príkazov vložených v komentároch je možné upraviť vertikálne formátovanie textu. Príkazy sú nahradené štandardnými makrami LaTeX-u.\n",
    "\n",
    "    <!-- SMALLSKIP -->\n",
    "    <!-- MEDSKIP -->\n",
    "    <!-- BIGSKIP -->\n",
    "    <!-- NEWPAGE -->"
   ]
  },
  {
   "cell_type": "markdown",
   "metadata": {},
   "source": [
    "## Inštalácia \n",
    "\n",
    "### nb2tex\n",
    "\n",
    "Pre konverziu je použitý skript *nb2tex* pre Python ver. 3.x. Skript sa neinštaluje, používa sa ako akýkoľvek iný skrip v OS Linux. \n",
    "\n",
    "### LaTex\n",
    "\n",
    "Pre správnu konverziu notebooku je potrebné mať nainštalované základné balíky LaTeX-u, fonty a podporu slovenčiny\n",
    "\n",
    "    sudo apt-get install texlive texlive-generic-recommended texlive-latex-extra \n",
    "    sudo apt-get install texlive-lang-czechslovak\n",
    "    \n",
    "tieto obsahujú len základnú podmnožinu z veľkého počtu balíkov dostupných v LaTeX-e. Pre prípadné úpravy finálneho textu je vhodné mať nainštalované aj vhodné prostredie, napr. TexMaker.\n",
    "\n",
    "### Python a Jupyter-Notebook\n",
    "\n",
    "Okrem štandardného Jupyter-Notebooku je potrebné nainštalovať aj rozšírenie *LaTeX\\_envs* a pomocné konverzné utility, knižnicu *pandoc* pre konverziu textových formátov, *nbconvert* a *jupyter\\_latex\\_envs* pre export notebooku  \n",
    "\n",
    "    sudo apt-get install pandoc\n",
    "    sudo apt-get install python-setuptools\n",
    "    \n",
    "    pip install wheel\n",
    "    pip install nbconvert\n",
    "    pip install jupyter_contrib_nbextensions\n",
    "    \n",
    "    jupyter contrib nbextension install --user\n",
    "    \n",
    "Podrobnejšie je inštalácia rozšírení a ich aktivovanie v prostredí Jupyter popísané v Kapitole 2. V prípade, že používate ako default verziu Python3, použitie miesto *pip* alternatívu *pip3*."
   ]
  },
  {
   "cell_type": "markdown",
   "metadata": {},
   "source": [
    "## Použitie skriptu\n",
    "\n",
    "### Štruktúra prostredia notebooku\n",
    "\n",
    "Adresárovú štruktúru, v ktorej vytvárame notebooky, je vhodné usporiadať v nasledujúcom tvare:\n",
    "\n",
    "    <Source>\n",
    "        |\n",
    "        +--- notebook_01.ipynb      subory notebookov, jednotlive kapitoly a pod.\n",
    "        +--- notebook_02.ipynb\n",
    "        +--- ...\n",
    "        |\n",
    "        +--- <img>                  adresar so statickymi (negenerovanymi)\n",
    "               |                    obrazkami pouzitymi v notebookoch\n",
    "               +-- *.png            pmocou prikazov <img src ... >\n",
    "             \n",
    "\n",
    "\n",
    "### Parametre skriptu, konfigurácia a spustenie\n",
    "\n",
    "Skript je potrebné spustiť s nasledujúcimi parametrami\n",
    "\n",
    "    usage: nb2tex.py [-h] [-c] \n",
    "    \n",
    "kde\n",
    "\n",
    "    -h    optional, zobrazenie helpu\n",
    "    -c    optional, vygenerovanie konfiguracnych suborov\n",
    "    \n",
    "Konfiguračný súbor **config.py** definuje notebooky, ktoré budú zaradené do konverzie. Formát konfiguračného súboru:\n",
    "\n",
    "    source = 'cesta_k_notebookom'\n",
    "    \n",
    "    chapters = [\n",
    "                 # notebook         COPY   UPDATE            \n",
    "                 ['meno_notebooku', True,  True],\n",
    "                 [ .... ],\n",
    "               ]\n",
    "    \n",
    "    # vyznam flagov\n",
    "    # COPY   - ak True, notebook sa bude kopirovat, inak sa pouzije lokalna kopia\n",
    "    # UPDATE - ak True, vykona sa refresh celho notebooku (spustenie skriptov, \n",
    "    #          generovanie obrazkov z matplotlibu)\n",
    "    #          volbu False je mozne zvolit len pri notebookoch, ktore neobsahuju\n",
    "    #          interaktivne casti"
   ]
  },
  {
   "cell_type": "markdown",
   "metadata": {},
   "source": [
    "## Prostredie LaTeX-u\n",
    "\n",
    "Výsledkom konverzie je sada súborov **\\*tex** v adresároch pomenovaných podľa notebookov. Štruktúra prostredia pre generovanie finálnych dokumentov má tvar (doporučené)\n",
    "\n",
    "    <Moja_Kniha>\n",
    "        |\n",
    "        |     |\n",
    "        |     +-- <meno_notebooku_01>        generovany adresar\n",
    "        |     |     |\n",
    "        |     |     +-- notebook_01.ipynb    kopia originalneho notebooku\n",
    "        |     |     +-- notebook_01.tex\n",
    "        |     |     |\n",
    "        |     |     +-- <meno_notebboku_01>\n",
    "        |     |            |\n",
    "        |     |            +-- *.png         skriptom generovane obrazky (UPDATE)\n",
    "        |\n",
    "        +-- <img>              kopia adresaru so statickymi (negenerovanymi)\n",
    "        |      |               obrazkami pouzitymi v notebookoch\n",
    "        |      +-- *.png       \n",
    "        | \n",
    "        +--- main.tex          konfiguracia dokumenu, usporiadanie a poradie kapitol \n",
    "        +--- listing.tex       format zobrazenia vypisov programov\n",
    "        +--- title_page.tex    titulna stranka dokumentu\n",
    "        +--- chapters_path.tex cesty ku kapitolam  (needitovat !)\n",
    "        +--- graphics_path.tex cestu k obrazkom (needitovat !)\n",
    "\n",
    "\n",
    "V každom vygenerovanom adresári je podadresár vytváraný pri UPDATE notebooku, ktorý obsahuje súbory s obrázkami vygenerovanými skriptami notebookov. Pre spracovanie v systéme LaTeX-u treba jednotlivé súbory usporiadať do finálneho dokumentu a nastaviť cesty ku generovaným a vkladaným obrázkom, príslušné konfiguračné súbory vytvára skript automaticky.\n",
    "\n",
    "    % konfiguracia dokumentu, pouzite prostredia, slovencina\n",
    "    \n",
    "    \\documentclass[10pt,a4paper]{report}\n",
    "    \\usepackage[utf8]{inputenc}\n",
    "    \\usepackage[slovak]{babel}\n",
    "    \\usepackage[IL2]{fontenc}   \n",
    "    ...\n",
    "    \n",
    "    %importovanie konfiguracneho suboru pre formatovanie vypisu programov    \n",
    "    \\include{listing}             \n",
    "\n",
    "    % cesty k obrazkom\n",
    "    \\include{graphics_path} \n",
    "            \n",
    "    % struktura dokumentu\n",
    "    \\begin{document}\n",
    "\n",
    "    % titulna stranka\n",
    "    \\include{title_page}\n",
    "\n",
    "    % obsah\n",
    "    \\newpage\n",
    "    \\tableofcontents\n",
    "\n",
    "    % kapitoly dokumentuy\n",
    "    \\include{chapters_path}\n",
    "    \n",
    "    \\end{document}\n",
    "\n",
    "Výsledný dokument vytvárame obvyklým spôsobom, z prostredia editora LaTeX-u alebo skriptom.\n"
   ]
  },
  {
   "cell_type": "markdown",
   "metadata": {},
   "source": [
    "## Čo (zatiaľ) nefunguje ... a doporučenia\n",
    "\n",
    "V automatickom móde generovania LaTeXu zatiaľ nefunguje\n",
    "\n",
    "* Matematické výrazy v popise obrázkov\n",
    "* Tabulky - je v tom zatiaľ chaos ... asi vhodnejšie je tabulky vytvoriť vo vlastnom *\\*.tex* súbore a vložiť ich do finálneho dokumentu cez *include*\n",
    "* Odkazy medzi medzi kapitolami na vzorce a pod.\n",
    "* Variabilné nastavovanie veľkosti generovaných obrázkov, nastavenie veľkosti pomocou *figsize=()* sa neprenáša do LaTeXu\n",
    "* Použitie italic textu v nadpisoch generuje chybu\n",
    "\n",
    "Parser Jupyter-u sa v niektorých prípadoch mierne odlišuje od LaTeX-u, prípadne je tolerantnejší k nedodržaniu pravidiel LaTeX-u. Pri tvorbe notebookov je vhodné dodržiavať niektoré odporučenia\n",
    "\n",
    "* Vkladané obrázky v \\*.png formáte generovať v jednom rozlíšeni (napr. 600dpi)\n",
    "* Pri vkladaní matematických výrazov do textu nevkladať medzery za a pred znakom koncového znaku dolára.\n",
    "\n"
   ]
  }
 ],
 "metadata": {
  "kernelspec": {
   "display_name": "Python 3",
   "language": "python",
   "name": "python3"
  },
  "language_info": {
   "codemirror_mode": {
    "name": "ipython",
    "version": 3
   },
   "file_extension": ".py",
   "mimetype": "text/x-python",
   "name": "python",
   "nbconvert_exporter": "python",
   "pygments_lexer": "ipython3",
   "version": "3.6.8"
  },
  "latex_envs": {
   "LaTeX_envs_menu_present": true,
   "autoclose": false,
   "autocomplete": true,
   "bibliofile": "biblio.bib",
   "cite_by": "apalike",
   "current_citInitial": 1,
   "eqLabelWithNumbers": true,
   "eqNumInitial": 1,
   "hotkeys": {
    "equation": "Ctrl-E",
    "itemize": "Ctrl-I"
   },
   "labels_anchors": false,
   "latex_user_defs": false,
   "report_style_numbering": false,
   "user_envs_cfg": false
  },
  "varInspector": {
   "cols": {
    "lenName": 16,
    "lenType": 16,
    "lenVar": 40
   },
   "kernels_config": {
    "python": {
     "delete_cmd_postfix": "",
     "delete_cmd_prefix": "del ",
     "library": "var_list.py",
     "varRefreshCmd": "print(var_dic_list())"
    },
    "r": {
     "delete_cmd_postfix": ") ",
     "delete_cmd_prefix": "rm(",
     "library": "var_list.r",
     "varRefreshCmd": "cat(var_dic_list()) "
    }
   },
   "types_to_exclude": [
    "module",
    "function",
    "builtin_function_or_method",
    "instance",
    "_Feature"
   ],
   "window_display": false
  }
 },
 "nbformat": 4,
 "nbformat_minor": 2
}
